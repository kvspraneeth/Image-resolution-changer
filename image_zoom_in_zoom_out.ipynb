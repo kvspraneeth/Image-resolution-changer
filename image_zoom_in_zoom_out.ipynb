{
 "cells": [
  {
   "cell_type": "code",
   "execution_count": 15,
   "id": "060d2ca9",
   "metadata": {},
   "outputs": [],
   "source": [
    "from PIL import Image\n",
    "import numpy as np\n",
    "import cv2"
   ]
  },
  {
   "cell_type": "code",
   "execution_count": 4,
   "id": "79aaf432",
   "metadata": {
    "collapsed": true
   },
   "outputs": [
    {
     "data": {
      "text/plain": [
       "array([[[146, 118,  94],\n",
       "        [146, 118,  94],\n",
       "        [148, 118,  94],\n",
       "        ...,\n",
       "        [206, 179, 162],\n",
       "        [206, 179, 162],\n",
       "        [206, 179, 162]],\n",
       "\n",
       "       [[146, 118,  94],\n",
       "        [146, 118,  94],\n",
       "        [148, 118,  94],\n",
       "        ...,\n",
       "        [206, 179, 162],\n",
       "        [206, 179, 162],\n",
       "        [206, 179, 162]],\n",
       "\n",
       "       [[146, 118,  94],\n",
       "        [146, 118,  94],\n",
       "        [148, 118,  94],\n",
       "        ...,\n",
       "        [206, 179, 162],\n",
       "        [206, 179, 162],\n",
       "        [206, 179, 162]],\n",
       "\n",
       "       ...,\n",
       "\n",
       "       [[215, 213, 175],\n",
       "        [215, 213, 175],\n",
       "        [215, 213, 175],\n",
       "        ...,\n",
       "        [229, 203, 190],\n",
       "        [229, 203, 190],\n",
       "        [230, 204, 191]],\n",
       "\n",
       "       [[215, 213, 175],\n",
       "        [215, 213, 175],\n",
       "        [214, 212, 174],\n",
       "        ...,\n",
       "        [227, 204, 190],\n",
       "        [227, 204, 190],\n",
       "        [228, 205, 191]],\n",
       "\n",
       "       [[215, 213, 175],\n",
       "        [215, 213, 175],\n",
       "        [214, 212, 174],\n",
       "        ...,\n",
       "        [227, 204, 190],\n",
       "        [228, 205, 191],\n",
       "        [229, 206, 192]]], dtype=uint8)"
      ]
     },
     "execution_count": 4,
     "metadata": {},
     "output_type": "execute_result"
    }
   ],
   "source": [
    "#image = Image.open('bro.jpg')\n",
    "#im_dim=np.array(image)\n",
    "#im_dim"
   ]
  },
  {
   "cell_type": "code",
   "execution_count": 16,
   "id": "e5e3a661",
   "metadata": {},
   "outputs": [
    {
     "name": "stdout",
     "output_type": "stream",
     "text": [
      "Img-Width= 3024\n",
      "Img-Height= 4032\n"
     ]
    }
   ],
   "source": [
    "img=cv2.imread(\"img.jpg\")\n",
    "print('Img-Width=',img.shape[1])\n",
    "print('Img-Height=',img.shape[0])"
   ]
  },
  {
   "cell_type": "code",
   "execution_count": 41,
   "id": "ccdf3e78",
   "metadata": {},
   "outputs": [
    {
     "name": "stdout",
     "output_type": "stream",
     "text": [
      "Zooming_in\n"
     ]
    }
   ],
   "source": [
    "print('Zooming_in')\n",
    "outp_img_z_in=cv2.resize(img,(300,300))\n",
    "outp_img_z_out=cv2.resize(img,(1000,1000))\n",
    "cv2.imshow('hi',outp_img_z_in)\n",
    "cv2.imshow('hi',outp_img_z_out)\n",
    "cv2.waitKey(1000)\n",
    "cv2.destroyAllWindows()"
   ]
  },
  {
   "cell_type": "code",
   "execution_count": 42,
   "id": "a238b32c",
   "metadata": {},
   "outputs": [
    {
     "name": "stdout",
     "output_type": "stream",
     "text": [
      "Zooming_out\n"
     ]
    }
   ],
   "source": [
    "print('Zooming_out')\n",
    "cv2.imshow('zoom_out',outp_img_z_in)\n",
    "cv2.waitKey(1000)\n",
    "cv2.destroyAllWindows()"
   ]
  }
 ],
 "metadata": {
  "kernelspec": {
   "display_name": "Python 3 (ipykernel)",
   "language": "python",
   "name": "python3"
  },
  "language_info": {
   "codemirror_mode": {
    "name": "ipython",
    "version": 3
   },
   "file_extension": ".py",
   "mimetype": "text/x-python",
   "name": "python",
   "nbconvert_exporter": "python",
   "pygments_lexer": "ipython3",
   "version": "3.9.12"
  }
 },
 "nbformat": 4,
 "nbformat_minor": 5
}
